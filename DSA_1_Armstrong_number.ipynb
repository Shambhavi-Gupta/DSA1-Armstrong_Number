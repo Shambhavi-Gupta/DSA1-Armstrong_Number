{
  "nbformat": 4,
  "nbformat_minor": 0,
  "metadata": {
    "colab": {
      "provenance": [],
      "authorship_tag": "ABX9TyMdE8e30Jy6ezGuPKOBIS+g",
      "include_colab_link": true
    },
    "kernelspec": {
      "name": "python3",
      "display_name": "Python 3"
    },
    "language_info": {
      "name": "python"
    }
  },
  "cells": [
    {
      "cell_type": "markdown",
      "metadata": {
        "id": "view-in-github",
        "colab_type": "text"
      },
      "source": [
        "<a href=\"https://colab.research.google.com/github/Shambhavi-Gupta/DSA1-Armstrong_Number/blob/main/DSA_1_Armstrong_number.ipynb\" target=\"_parent\"><img src=\"https://colab.research.google.com/assets/colab-badge.svg\" alt=\"Open In Colab\"/></a>"
      ]
    },
    {
      "cell_type": "code",
      "execution_count": null,
      "metadata": {
        "id": "1nfYKGdbaxCa"
      },
      "outputs": [],
      "source": [
        "# n = int(input(\"Enter a number : \"))\n",
        "# copy = n\n",
        "# sum = 0\n",
        "# order = len(str(n))\n",
        "# while(n>0):\n",
        "#     digit = n%10\n",
        "#     sum += digit ** order\n",
        "#     n = n//10\n",
        "# if (sum==copy):\n",
        "#     print(f\"{copy} is an armstrong number\")\n",
        "# else:\n",
        "#     print(f\"{copy} is not an armstrong number\")\n",
        "\n",
        "my_str = \"Shambhavi is a good girl\"\n",
        "print(my_str[::-1])"
      ]
    }
  ]
}